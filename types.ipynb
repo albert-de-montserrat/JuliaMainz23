{
 "cells": [
  {
   "cell_type": "markdown",
   "source": [
    "# Types / struct\n",
    "As opposed to Object-Oriented-Perogramming, one of the key features of Julia is the so-called multiple dispatch. It is a powerful\n",
    "code dessign pattern that allows to write (typically highly abstract) generic code.\n",
    "From a simple point of view, multiple dispatch means that you can write several functions\n",
    "with the same name, but with different methods depending on the number and types of the arguments"
   ],
   "metadata": {}
  },
  {
   "outputs": [
    {
     "output_type": "execute_result",
     "data": {
      "text/plain": "foo (generic function with 3 methods)"
     },
     "metadata": {},
     "execution_count": 1
    }
   ],
   "cell_type": "code",
   "source": [
    "foo(x::Float64) = 2*x\n",
    "foo(x::Int64) = 4*x\n",
    "foo(x) = \"Hello\""
   ],
   "metadata": {},
   "execution_count": 1
  },
  {
   "outputs": [
    {
     "output_type": "execute_result",
     "data": {
      "text/plain": "4"
     },
     "metadata": {},
     "execution_count": 2
    }
   ],
   "cell_type": "code",
   "source": [
    "foo(1)"
   ],
   "metadata": {},
   "execution_count": 2
  },
  {
   "outputs": [
    {
     "output_type": "execute_result",
     "data": {
      "text/plain": "2.0"
     },
     "metadata": {},
     "execution_count": 3
    }
   ],
   "cell_type": "code",
   "source": [
    "foo(1.0)"
   ],
   "metadata": {},
   "execution_count": 3
  },
  {
   "outputs": [
    {
     "output_type": "execute_result",
     "data": {
      "text/plain": "\"Hello\""
     },
     "metadata": {},
     "execution_count": 4
    }
   ],
   "cell_type": "code",
   "source": [
    "foo(2f0)"
   ],
   "metadata": {},
   "execution_count": 4
  },
  {
   "cell_type": "markdown",
   "source": [
    "This means that I could extend a given method for a type that is defined in an external package."
   ],
   "metadata": {}
  },
  {
   "cell_type": "markdown",
   "source": [
    "---\n",
    "\n",
    "*This notebook was generated using [Literate.jl](https://github.com/fredrikekre/Literate.jl).*"
   ],
   "metadata": {}
  }
 ],
 "nbformat_minor": 3,
 "metadata": {
  "language_info": {
   "file_extension": ".jl",
   "mimetype": "application/julia",
   "name": "julia",
   "version": "1.10.0-rc1"
  },
  "kernelspec": {
   "name": "julia-1.10",
   "display_name": "Julia 1.10.0-rc1",
   "language": "julia"
  }
 },
 "nbformat": 4
}
