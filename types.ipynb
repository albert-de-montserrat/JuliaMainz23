{
 "cells": [
  {
   "cell_type": "markdown",
   "source": [
    "nb"
   ],
   "metadata": {}
  },
  {
   "outputs": [],
   "cell_type": "code",
   "source": [
    "using BenchmarkTools, InteractiveUtils"
   ],
   "metadata": {},
   "execution_count": 1
  },
  {
   "cell_type": "markdown",
   "source": [
    "nb"
   ],
   "metadata": {}
  },
  {
   "cell_type": "markdown",
   "source": [
    "# Types / struct\n",
    "As opposed to Object-Oriented-Perogramming, one of the key features of Julia is the so-called multiple dispatch. It is a powerful\n",
    "code dessign pattern that allows to write (typically highly abstract) generic code.\n",
    "From a simple point of view, multiple dispatch means that you can write several functions\n",
    "with the same name, but with different methods depending on the number and types of the arguments"
   ],
   "metadata": {}
  },
  {
   "outputs": [
    {
     "output_type": "execute_result",
     "data": {
      "text/plain": "foo (generic function with 3 methods)"
     },
     "metadata": {},
     "execution_count": 2
    }
   ],
   "cell_type": "code",
   "source": [
    "foo(x::Float64) = 2*x\n",
    "foo(x::Int64) = 4*x\n",
    "foo(x) = \"Hello\""
   ],
   "metadata": {},
   "execution_count": 2
  },
  {
   "outputs": [
    {
     "output_type": "execute_result",
     "data": {
      "text/plain": "4"
     },
     "metadata": {},
     "execution_count": 3
    }
   ],
   "cell_type": "code",
   "source": [
    "foo(1)"
   ],
   "metadata": {},
   "execution_count": 3
  },
  {
   "outputs": [
    {
     "output_type": "execute_result",
     "data": {
      "text/plain": "2.0"
     },
     "metadata": {},
     "execution_count": 4
    }
   ],
   "cell_type": "code",
   "source": [
    "foo(1.0)"
   ],
   "metadata": {},
   "execution_count": 4
  },
  {
   "outputs": [
    {
     "output_type": "execute_result",
     "data": {
      "text/plain": "\"Hello\""
     },
     "metadata": {},
     "execution_count": 5
    }
   ],
   "cell_type": "code",
   "source": [
    "foo(2f0)"
   ],
   "metadata": {},
   "execution_count": 5
  },
  {
   "cell_type": "markdown",
   "source": [
    "This means that I could extend a given method for a type that is defined in an external package.\n",
    "Typical one wants to create its own dat type, this is done with `struct`. For example we can create a\n",
    "`Dual` number type."
   ],
   "metadata": {}
  },
  {
   "outputs": [],
   "cell_type": "code",
   "source": [
    "struct Dual1\n",
    "    val\n",
    "    partial\n",
    "end"
   ],
   "metadata": {},
   "execution_count": 6
  },
  {
   "cell_type": "markdown",
   "source": [
    "where the Dual number $x + a\\epsilon \\rightarrow f(x) + f'(x)\\epsilon$ is similar to an imaginary, with $\\epsilon^2 = 0$.\n",
    "Dual numbers are used in the so-called forward mode autodifferentiation, and yield machine-precission derivatives.\n",
    "The easiest implimentation is done via \"operator overloading\", which means that we expand basic arithemtic operations\n",
    "to Dual numbers arithmetics. Using multiple dispatch, we can define the rules for addition, multiplication, and exponentiation:"
   ],
   "metadata": {}
  },
  {
   "outputs": [
    {
     "output_type": "execute_result",
     "data": {
      "text/plain": "^ (generic function with 75 methods)"
     },
     "metadata": {},
     "execution_count": 7
    }
   ],
   "cell_type": "code",
   "source": [
    "import Base: +, *, ^\n",
    "(+)(x::Dual1 , y::Dual1)  = Dual1(x.val + y.val, x.partial + y.partial)\n",
    "(+)(x::Dual1 , y::Number) = Dual1(y, 0.0) + x\n",
    "(+)(x::Number, y::Dual1)  = Dual1(x, 0.0) + y\n",
    "(*)(x::Dual1 , y::Dual1)  = Dual1(x.val * y.val, x.val * y.partial + y.val * x.partial)\n",
    "(*)(x::Dual1 , y::Number) = Dual1(y, 0.0) * x\n",
    "(*)(x::Number, y::Dual1)  = Dual1(x, 0.0) * y\n",
    "(^)(x::Dual1 , n::Number) = Dual1(x.val^n, n*x.partial * x.val^(n-1))"
   ],
   "metadata": {},
   "execution_count": 7
  },
  {
   "outputs": [
    {
     "output_type": "execute_result",
     "data": {
      "text/plain": "Main.var\"##432\".Dual1(16.0, 8.0)"
     },
     "metadata": {},
     "execution_count": 8
    }
   ],
   "cell_type": "code",
   "source": [
    "f(x) = x^2 + 2*x + 1\n",
    "x1 = Dual1(3.0, 1.0)\n",
    "f(x1)"
   ],
   "metadata": {},
   "execution_count": 8
  },
  {
   "cell_type": "markdown",
   "source": [
    "Ok, it works. Now lets benchmark it, the operations are trivial so we should expect speed and no allocations...."
   ],
   "metadata": {}
  },
  {
   "outputs": [
    {
     "name": "stdout",
     "output_type": "stream",
     "text": [
      "  227.657 ns (11 allocations: 176 bytes)\n"
     ]
    },
    {
     "output_type": "execute_result",
     "data": {
      "text/plain": "Main.var\"##432\".Dual1(16.0, 8.0)"
     },
     "metadata": {},
     "execution_count": 9
    }
   ],
   "cell_type": "code",
   "source": [
    "@btime f($x1)"
   ],
   "metadata": {},
   "execution_count": 9
  },
  {
   "cell_type": "markdown",
   "source": [
    "or not. Unexpected allocations are usually due to some type instability, so lets see what `@code_warntype` says"
   ],
   "metadata": {}
  },
  {
   "outputs": [
    {
     "name": "stdout",
     "output_type": "stream",
     "text": [
      "MethodInstance for Main.var\"##432\".f(::Main.var\"##432\".Dual1)\n",
      "  from f(x) @ Main.var\"##432\" ~/Desktop/Seminars/JuliaMainz23/types.ipynb:1\n",
      "Arguments\n",
      "  #self#::Core.Const(Main.var\"##432\".f)\n",
      "  x::Main.var\"##432\".Dual1\n",
      "Body::Main.var\"##432\".Dual1\n",
      "1 ─ %1 = Main.var\"##432\".:^::Core.Const(^)\n",
      "│   %2 = Core.apply_type(Base.Val, 2)::Core.Const(Val{2})\n",
      "│   %3 = (%2)()::Core.Const(Val{2}())\n",
      "│   %4 = Base.literal_pow(%1, x, %3)::Main.var\"##432\".Dual1\n",
      "│   %5 = (2 * x)::Main.var\"##432\".Dual1\n",
      "│   %6 = (%4 + %5 + 1)::Main.var\"##432\".Dual1\n",
      "└──      return %6\n",
      "\n"
     ]
    }
   ],
   "cell_type": "code",
   "source": [
    "@code_warntype f(x1)"
   ],
   "metadata": {},
   "execution_count": 10
  },
  {
   "cell_type": "markdown",
   "source": [
    "it seems it's not bad, everything is in blue. Lets take a better look using JET.jl"
   ],
   "metadata": {}
  },
  {
   "outputs": [
    {
     "output_type": "execute_result",
     "data": {
      "text/plain": "\u001b[7m═════ 9 possible errors found ═════\u001b[27m\n\u001b[35m┌ \u001b[39m\u001b[0m\u001b[1mf\u001b[22m\u001b[0m\u001b[1m(\u001b[22m\u001b[90mx\u001b[39m::\u001b[0mMain.var\"##432\".Dual1\u001b[0m\u001b[1m)\u001b[22m \u001b[35m@ \u001b[39m\u001b[35mMain.var\"##432\"\u001b[39m\u001b[35m /Users/albert/Desktop/Seminars/JuliaMainz23/types.ipynb:1\u001b[39m\n\u001b[35m│\u001b[39m\u001b[34m┌ \u001b[39m\u001b[0m\u001b[1mliteral_pow\u001b[22m\u001b[0m\u001b[1m(\u001b[22m\u001b[90mf\u001b[39m::\u001b[0mtypeof(^), \u001b[90mx\u001b[39m::\u001b[0mMain.var\"##432\".Dual1, ::\u001b[0mVal\u001b[90m{2}\u001b[39m\u001b[0m\u001b[1m)\u001b[22m \u001b[34m@ \u001b[39m\u001b[34mBase\u001b[39m\u001b[34m ./intfuncs.jl:338\u001b[39m\n\u001b[35m│\u001b[39m\u001b[34m│\u001b[39m\u001b[91m┌ \u001b[39m\u001b[0m\u001b[1m^\u001b[22m\u001b[0m\u001b[1m(\u001b[22m\u001b[90mx\u001b[39m::\u001b[0mMain.var\"##432\".Dual1, \u001b[90mn\u001b[39m::\u001b[0mInt64\u001b[0m\u001b[1m)\u001b[22m \u001b[91m@ \u001b[39m\u001b[91mMain.var\"##432\"\u001b[39m\u001b[91m /Users/albert/Desktop/Seminars/JuliaMainz23/types.ipynb:8\u001b[39m\n\u001b[35m│\u001b[39m\u001b[34m│\u001b[39m\u001b[91m│ \u001b[39m\u001b[91mruntime dispatch detected\u001b[39m\u001b[91m: \u001b[39m\u001b[0m\u001b[1m(\u001b[22m\u001b[0m\u001b[1m%1\u001b[22m\u001b[96m\u001b[1m::Any\u001b[22m\u001b[39m\u001b[0m\u001b[1m \u001b[22m\u001b[0m\u001b[1mMain.var\"##432\".:^\u001b[22m\u001b[0m\u001b[1m \u001b[22m\u001b[0m\u001b[1mn\u001b[22m\u001b[96m\u001b[1m::Int64\u001b[22m\u001b[39m\u001b[0m\u001b[1m)\u001b[22m\u001b[96m\u001b[1m::Any\u001b[22m\u001b[39m\n\u001b[35m│\u001b[39m\u001b[34m│\u001b[39m\u001b[91m└────────────────────\u001b[39m\n\u001b[35m│\u001b[39m\u001b[34m│\u001b[39m\u001b[91m┌ \u001b[39m\u001b[0m\u001b[1m^\u001b[22m\u001b[0m\u001b[1m(\u001b[22m\u001b[90mx\u001b[39m::\u001b[0mMain.var\"##432\".Dual1, \u001b[90mn\u001b[39m::\u001b[0mInt64\u001b[0m\u001b[1m)\u001b[22m \u001b[91m@ \u001b[39m\u001b[91mMain.var\"##432\"\u001b[39m\u001b[91m /Users/albert/Desktop/Seminars/JuliaMainz23/types.ipynb:8\u001b[39m\n\u001b[35m│\u001b[39m\u001b[34m│\u001b[39m\u001b[91m│ \u001b[39m\u001b[91mruntime dispatch detected\u001b[39m\u001b[91m: \u001b[39m\u001b[0m\u001b[1m(\u001b[22m\u001b[0m\u001b[1m%4\u001b[22m\u001b[96m\u001b[1m::Any\u001b[22m\u001b[39m\u001b[0m\u001b[1m \u001b[22m\u001b[0m\u001b[1mMain.var\"##432\".:^\u001b[22m\u001b[0m\u001b[1m \u001b[22m\u001b[0m\u001b[1m%5\u001b[22m\u001b[96m\u001b[1m::Int64\u001b[22m\u001b[39m\u001b[0m\u001b[1m)\u001b[22m\u001b[96m\u001b[1m::Any\u001b[22m\u001b[39m\n\u001b[35m│\u001b[39m\u001b[34m│\u001b[39m\u001b[91m└────────────────────\u001b[39m\n\u001b[35m│\u001b[39m\u001b[34m│\u001b[39m\u001b[91m┌ \u001b[39m\u001b[0m\u001b[1m^\u001b[22m\u001b[0m\u001b[1m(\u001b[22m\u001b[90mx\u001b[39m::\u001b[0mMain.var\"##432\".Dual1, \u001b[90mn\u001b[39m::\u001b[0mInt64\u001b[0m\u001b[1m)\u001b[22m \u001b[91m@ \u001b[39m\u001b[91mMain.var\"##432\"\u001b[39m\u001b[91m /Users/albert/Desktop/Seminars/JuliaMainz23/types.ipynb:8\u001b[39m\n\u001b[35m│\u001b[39m\u001b[34m│\u001b[39m\u001b[91m│ \u001b[39m\u001b[91mruntime dispatch detected\u001b[39m\u001b[91m: \u001b[39m\u001b[0m\u001b[1mMain.var\"##432\".:*\u001b[22m\u001b[0m\u001b[1m(\u001b[22m\u001b[0m\u001b[1mn\u001b[22m\u001b[96m\u001b[1m::Int64\u001b[22m\u001b[39m\u001b[0m\u001b[1m, \u001b[22m\u001b[0m\u001b[1m%3\u001b[22m\u001b[96m\u001b[1m::Any\u001b[22m\u001b[39m\u001b[0m\u001b[1m, \u001b[22m\u001b[0m\u001b[1m%6\u001b[22m\u001b[96m\u001b[1m::Any\u001b[22m\u001b[39m\u001b[0m\u001b[1m)\u001b[22m\u001b[96m\u001b[1m::Any\u001b[22m\u001b[39m\n\u001b[35m│\u001b[39m\u001b[34m│\u001b[39m\u001b[91m└────────────────────\u001b[39m\n\u001b[35m│\u001b[39m\u001b[34m┌ \u001b[39m\u001b[0m\u001b[1m*\u001b[22m\u001b[0m\u001b[1m(\u001b[22m\u001b[90mx\u001b[39m::\u001b[0mInt64, \u001b[90my\u001b[39m::\u001b[0mMain.var\"##432\".Dual1\u001b[0m\u001b[1m)\u001b[22m \u001b[34m@ \u001b[39m\u001b[34mMain.var\"##432\"\u001b[39m\u001b[34m /Users/albert/Desktop/Seminars/JuliaMainz23/types.ipynb:7\u001b[39m\n\u001b[35m│\u001b[39m\u001b[34m│\u001b[39m\u001b[91m┌ \u001b[39m\u001b[0m\u001b[1m*\u001b[22m\u001b[0m\u001b[1m(\u001b[22m\u001b[90mx\u001b[39m::\u001b[0mMain.var\"##432\".Dual1, \u001b[90my\u001b[39m::\u001b[0mMain.var\"##432\".Dual1\u001b[0m\u001b[1m)\u001b[22m \u001b[91m@ \u001b[39m\u001b[91mMain.var\"##432\"\u001b[39m\u001b[91m /Users/albert/Desktop/Seminars/JuliaMainz23/types.ipynb:5\u001b[39m\n\u001b[35m│\u001b[39m\u001b[34m│\u001b[39m\u001b[91m│ \u001b[39m\u001b[91mruntime dispatch detected\u001b[39m\u001b[91m: \u001b[39m\u001b[0m\u001b[1m(\u001b[22m\u001b[0m\u001b[1m%1\u001b[22m\u001b[96m\u001b[1m::Any\u001b[22m\u001b[39m\u001b[0m\u001b[1m \u001b[22m\u001b[0m\u001b[1mMain.var\"##432\".:*\u001b[22m\u001b[0m\u001b[1m \u001b[22m\u001b[0m\u001b[1m%2\u001b[22m\u001b[96m\u001b[1m::Any\u001b[22m\u001b[39m\u001b[0m\u001b[1m)\u001b[22m\u001b[96m\u001b[1m::Any\u001b[22m\u001b[39m\n\u001b[35m│\u001b[39m\u001b[34m│\u001b[39m\u001b[91m└────────────────────\u001b[39m\n\u001b[35m│\u001b[39m\u001b[34m│\u001b[39m\u001b[91m┌ \u001b[39m\u001b[0m\u001b[1m*\u001b[22m\u001b[0m\u001b[1m(\u001b[22m\u001b[90mx\u001b[39m::\u001b[0mMain.var\"##432\".Dual1, \u001b[90my\u001b[39m::\u001b[0mMain.var\"##432\".Dual1\u001b[0m\u001b[1m)\u001b[22m \u001b[91m@ \u001b[39m\u001b[91mMain.var\"##432\"\u001b[39m\u001b[91m /Users/albert/Desktop/Seminars/JuliaMainz23/types.ipynb:5\u001b[39m\n\u001b[35m│\u001b[39m\u001b[34m│\u001b[39m\u001b[91m│ \u001b[39m\u001b[91mruntime dispatch detected\u001b[39m\u001b[91m: \u001b[39m\u001b[0m\u001b[1m(\u001b[22m\u001b[0m\u001b[1m%4\u001b[22m\u001b[96m\u001b[1m::Any\u001b[22m\u001b[39m\u001b[0m\u001b[1m \u001b[22m\u001b[0m\u001b[1mMain.var\"##432\".:*\u001b[22m\u001b[0m\u001b[1m \u001b[22m\u001b[0m\u001b[1m%5\u001b[22m\u001b[96m\u001b[1m::Any\u001b[22m\u001b[39m\u001b[0m\u001b[1m)\u001b[22m\u001b[96m\u001b[1m::Any\u001b[22m\u001b[39m\n\u001b[35m│\u001b[39m\u001b[34m│\u001b[39m\u001b[91m└────────────────────\u001b[39m\n\u001b[35m│\u001b[39m\u001b[34m│\u001b[39m\u001b[91m┌ \u001b[39m\u001b[0m\u001b[1m*\u001b[22m\u001b[0m\u001b[1m(\u001b[22m\u001b[90mx\u001b[39m::\u001b[0mMain.var\"##432\".Dual1, \u001b[90my\u001b[39m::\u001b[0mMain.var\"##432\".Dual1\u001b[0m\u001b[1m)\u001b[22m \u001b[91m@ \u001b[39m\u001b[91mMain.var\"##432\"\u001b[39m\u001b[91m /Users/albert/Desktop/Seminars/JuliaMainz23/types.ipynb:5\u001b[39m\n\u001b[35m│\u001b[39m\u001b[34m│\u001b[39m\u001b[91m│ \u001b[39m\u001b[91mruntime dispatch detected\u001b[39m\u001b[91m: \u001b[39m\u001b[0m\u001b[1m(\u001b[22m\u001b[0m\u001b[1m%7\u001b[22m\u001b[96m\u001b[1m::Any\u001b[22m\u001b[39m\u001b[0m\u001b[1m \u001b[22m\u001b[0m\u001b[1mMain.var\"##432\".:*\u001b[22m\u001b[0m\u001b[1m \u001b[22m\u001b[0m\u001b[1m%8\u001b[22m\u001b[96m\u001b[1m::Any\u001b[22m\u001b[39m\u001b[0m\u001b[1m)\u001b[22m\u001b[96m\u001b[1m::Any\u001b[22m\u001b[39m\n\u001b[35m│\u001b[39m\u001b[34m│\u001b[39m\u001b[91m└────────────────────\u001b[39m\n\u001b[35m│\u001b[39m\u001b[34m│\u001b[39m\u001b[91m┌ \u001b[39m\u001b[0m\u001b[1m*\u001b[22m\u001b[0m\u001b[1m(\u001b[22m\u001b[90mx\u001b[39m::\u001b[0mMain.var\"##432\".Dual1, \u001b[90my\u001b[39m::\u001b[0mMain.var\"##432\".Dual1\u001b[0m\u001b[1m)\u001b[22m \u001b[91m@ \u001b[39m\u001b[91mMain.var\"##432\"\u001b[39m\u001b[91m /Users/albert/Desktop/Seminars/JuliaMainz23/types.ipynb:5\u001b[39m\n\u001b[35m│\u001b[39m\u001b[34m│\u001b[39m\u001b[91m│ \u001b[39m\u001b[91mruntime dispatch detected\u001b[39m\u001b[91m: \u001b[39m\u001b[0m\u001b[1m(\u001b[22m\u001b[0m\u001b[1m%6\u001b[22m\u001b[96m\u001b[1m::Any\u001b[22m\u001b[39m\u001b[0m\u001b[1m \u001b[22m\u001b[0m\u001b[1mMain.var\"##432\".:+\u001b[22m\u001b[0m\u001b[1m \u001b[22m\u001b[0m\u001b[1m%9\u001b[22m\u001b[96m\u001b[1m::Any\u001b[22m\u001b[39m\u001b[0m\u001b[1m)\u001b[22m\u001b[96m\u001b[1m::Any\u001b[22m\u001b[39m\n\u001b[35m│\u001b[39m\u001b[34m│\u001b[39m\u001b[91m└────────────────────\u001b[39m\n\u001b[35m│\u001b[39m\u001b[34m┌ \u001b[39m\u001b[0m\u001b[1m+\u001b[22m\u001b[0m\u001b[1m(\u001b[22m::\u001b[0mMain.var\"##432\".Dual1, ::\u001b[0mMain.var\"##432\".Dual1, ::\u001b[0mInt64\u001b[0m\u001b[1m)\u001b[22m \u001b[34m@ \u001b[39m\u001b[34mBase\u001b[39m\u001b[34m ./operators.jl:578\u001b[39m\n\u001b[35m│\u001b[39m\u001b[34m│\u001b[39m\u001b[91m┌ \u001b[39m\u001b[0m\u001b[1m+\u001b[22m\u001b[0m\u001b[1m(\u001b[22m\u001b[90mx\u001b[39m::\u001b[0mMain.var\"##432\".Dual1, \u001b[90my\u001b[39m::\u001b[0mMain.var\"##432\".Dual1\u001b[0m\u001b[1m)\u001b[22m \u001b[91m@ \u001b[39m\u001b[91mMain.var\"##432\"\u001b[39m\u001b[91m /Users/albert/Desktop/Seminars/JuliaMainz23/types.ipynb:2\u001b[39m\n\u001b[35m│\u001b[39m\u001b[34m│\u001b[39m\u001b[91m│ \u001b[39m\u001b[91mruntime dispatch detected\u001b[39m\u001b[91m: \u001b[39m\u001b[0m\u001b[1m(\u001b[22m\u001b[0m\u001b[1m%1\u001b[22m\u001b[96m\u001b[1m::Any\u001b[22m\u001b[39m\u001b[0m\u001b[1m \u001b[22m\u001b[0m\u001b[1mMain.var\"##432\".:+\u001b[22m\u001b[0m\u001b[1m \u001b[22m\u001b[0m\u001b[1m%2\u001b[22m\u001b[96m\u001b[1m::Any\u001b[22m\u001b[39m\u001b[0m\u001b[1m)\u001b[22m\u001b[96m\u001b[1m::Any\u001b[22m\u001b[39m\n\u001b[35m│\u001b[39m\u001b[34m│\u001b[39m\u001b[91m└────────────────────\u001b[39m\n\u001b[35m│\u001b[39m\u001b[34m│\u001b[39m\u001b[91m┌ \u001b[39m\u001b[0m\u001b[1m+\u001b[22m\u001b[0m\u001b[1m(\u001b[22m\u001b[90mx\u001b[39m::\u001b[0mMain.var\"##432\".Dual1, \u001b[90my\u001b[39m::\u001b[0mMain.var\"##432\".Dual1\u001b[0m\u001b[1m)\u001b[22m \u001b[91m@ \u001b[39m\u001b[91mMain.var\"##432\"\u001b[39m\u001b[91m /Users/albert/Desktop/Seminars/JuliaMainz23/types.ipynb:2\u001b[39m\n\u001b[35m│\u001b[39m\u001b[34m│\u001b[39m\u001b[91m│ \u001b[39m\u001b[91mruntime dispatch detected\u001b[39m\u001b[91m: \u001b[39m\u001b[0m\u001b[1m(\u001b[22m\u001b[0m\u001b[1m%4\u001b[22m\u001b[96m\u001b[1m::Any\u001b[22m\u001b[39m\u001b[0m\u001b[1m \u001b[22m\u001b[0m\u001b[1mMain.var\"##432\".:+\u001b[22m\u001b[0m\u001b[1m \u001b[22m\u001b[0m\u001b[1m%5\u001b[22m\u001b[96m\u001b[1m::Any\u001b[22m\u001b[39m\u001b[0m\u001b[1m)\u001b[22m\u001b[96m\u001b[1m::Any\u001b[22m\u001b[39m\n\u001b[35m│\u001b[39m\u001b[34m│\u001b[39m\u001b[91m└────────────────────\u001b[39m\n"
     },
     "metadata": {},
     "execution_count": 11
    }
   ],
   "cell_type": "code",
   "source": [
    "using JET\n",
    "@report_opt f(x1)"
   ],
   "metadata": {},
   "execution_count": 11
  },
  {
   "cell_type": "markdown",
   "source": [
    "it seems that the problem is that the compiler is not able to infer the types of `Dual1.val` and `Dual1.partial`, leading to runtime dispatch.\n",
    "This is due to the fact that we did not specify the type of the fields of the struct. We can do it in the following way by parameterizing the `struct`"
   ],
   "metadata": {}
  },
  {
   "outputs": [
    {
     "output_type": "execute_result",
     "data": {
      "text/plain": "^ (generic function with 76 methods)"
     },
     "metadata": {},
     "execution_count": 12
    }
   ],
   "cell_type": "code",
   "source": [
    "struct Dual2{T}\n",
    "    val::T\n",
    "    partial::T\n",
    "end\n",
    "(+)(x::Dual2   , y::Dual2)            = Dual2(x.val + y.val, x.partial + y.partial)\n",
    "(+)(x::Dual2{T}, y::Number)   where T = Dual2(T(y), 0.0) + x\n",
    "(+)(x::Number  , y::Dual2{T}) where T = Dual2(T(x), 0.0) + y\n",
    "(*)(x::Dual2   , y::Dual2)            = Dual2(x.val * y.val, x.val * y.partial + y.val * x.partial)\n",
    "(*)(x::Dual2{T}, y::Number)   where T = Dual2(T(y), 0.0) * x\n",
    "(*)(x::Number  , y::Dual2{T}) where T = Dual2(T(x), 0.0) * y\n",
    "(^)(x::Dual2   , n::Number)           = Dual2(x.val^n, n*x.partial * x.val^(n-1))"
   ],
   "metadata": {},
   "execution_count": 12
  },
  {
   "outputs": [
    {
     "output_type": "execute_result",
     "data": {
      "text/plain": "Main.var\"##432\".Dual2{Float64}(16.0, 8.0)"
     },
     "metadata": {},
     "execution_count": 13
    }
   ],
   "cell_type": "code",
   "source": [
    "x2 = Dual2(3.0, 1.0)\n",
    "f(x2)"
   ],
   "metadata": {},
   "execution_count": 13
  },
  {
   "outputs": [
    {
     "name": "stdout",
     "output_type": "stream",
     "text": [
      "  5.333 ns (0 allocations: 0 bytes)\n"
     ]
    },
    {
     "output_type": "execute_result",
     "data": {
      "text/plain": "Main.var\"##432\".Dual2{Float64}(16.0, 8.0)"
     },
     "metadata": {},
     "execution_count": 14
    }
   ],
   "cell_type": "code",
   "source": [
    "@btime f($x2)"
   ],
   "metadata": {},
   "execution_count": 14
  },
  {
   "outputs": [
    {
     "name": "stdout",
     "output_type": "stream",
     "text": [
      "MethodInstance for Main.var\"##432\".f(::Main.var\"##432\".Dual2{Float64})\n",
      "  from f(x) @ Main.var\"##432\" ~/Desktop/Seminars/JuliaMainz23/types.ipynb:1\n",
      "Arguments\n",
      "  #self#::Core.Const(Main.var\"##432\".f)\n",
      "  x::Main.var\"##432\".Dual2{Float64}\n",
      "Body::Main.var\"##432\".Dual2{Float64}\n",
      "1 ─ %1 = Main.var\"##432\".:^::Core.Const(^)\n",
      "│   %2 = Core.apply_type(Base.Val, 2)::Core.Const(Val{2})\n",
      "│   %3 = (%2)()::Core.Const(Val{2}())\n",
      "│   %4 = Base.literal_pow(%1, x, %3)::Main.var\"##432\".Dual2{Float64}\n",
      "│   %5 = (2 * x)::Main.var\"##432\".Dual2{Float64}\n",
      "│   %6 = (%4 + %5 + 1)::Main.var\"##432\".Dual2{Float64}\n",
      "└──      return %6\n",
      "\n"
     ]
    }
   ],
   "cell_type": "code",
   "source": [
    "@code_warntype f(x2)"
   ],
   "metadata": {},
   "execution_count": 15
  },
  {
   "cell_type": "markdown",
   "source": [
    "# # Note on structs\n",
    "- structs are immutable by default, but you can make them mutable by adding `mutable struct`"
   ],
   "metadata": {}
  },
  {
   "outputs": [
    {
     "output_type": "execute_result",
     "data": {
      "text/plain": "6"
     },
     "metadata": {},
     "execution_count": 16
    }
   ],
   "cell_type": "code",
   "source": [
    "mutable struct Foo1{T}\n",
    "    a::T\n",
    "end\n",
    "a = Foo1(5)\n",
    "a.a = 6"
   ],
   "metadata": {},
   "execution_count": 16
  },
  {
   "cell_type": "markdown",
   "source": [
    "- Array *values* are mutable, but the array itself is not."
   ],
   "metadata": {}
  },
  {
   "outputs": [
    {
     "output_type": "execute_result",
     "data": {
      "text/plain": "1.0"
     },
     "metadata": {},
     "execution_count": 17
    }
   ],
   "cell_type": "code",
   "source": [
    "struct Foo2{T}\n",
    "    a::T\n",
    "end\n",
    "b = Foo2(zeros(5))\n",
    "b.a[1] = 1.0"
   ],
   "metadata": {},
   "execution_count": 17
  },
  {
   "cell_type": "markdown",
   "source": [
    "- We can also use references to mutate scalar values in immutable structs"
   ],
   "metadata": {}
  },
  {
   "outputs": [
    {
     "output_type": "execute_result",
     "data": {
      "text/plain": "6"
     },
     "metadata": {},
     "execution_count": 18
    }
   ],
   "cell_type": "code",
   "source": [
    "struct Bar{T}\n",
    "    a::Ref{T}\n",
    "end\n",
    "c = Bar(Ref(5))\n",
    "c.a[] = 6"
   ],
   "metadata": {},
   "execution_count": 18
  },
  {
   "outputs": [
    {
     "name": "stdout",
     "output_type": "stream",
     "text": [
      "  1.333 ns (0 allocations: 0 bytes)\n",
      "  1.666 ns (0 allocations: 0 bytes)\n"
     ]
    },
    {
     "output_type": "execute_result",
     "data": {
      "text/plain": "6"
     },
     "metadata": {},
     "execution_count": 19
    }
   ],
   "cell_type": "code",
   "source": [
    "@btime $a.a = 6\n",
    "@btime $c.a[] = 6"
   ],
   "metadata": {},
   "execution_count": 19
  },
  {
   "cell_type": "markdown",
   "source": [
    "---\n",
    "\n",
    "*This notebook was generated using [Literate.jl](https://github.com/fredrikekre/Literate.jl).*"
   ],
   "metadata": {}
  }
 ],
 "nbformat_minor": 3,
 "metadata": {
  "language_info": {
   "file_extension": ".jl",
   "mimetype": "application/julia",
   "name": "julia",
   "version": "1.9.3"
  },
  "kernelspec": {
   "name": "julia-1.9",
   "display_name": "Julia 1.9.3",
   "language": "julia"
  }
 },
 "nbformat": 4
}
