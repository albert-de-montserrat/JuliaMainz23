{
 "cells": [
  {
   "cell_type": "markdown",
   "source": [
    "# Tools to asses the performance of our functions\n",
    "Main tools I use every day:\n",
    "* [BenchmarkTools.jl](https://github.com/JuliaCI/BenchmarkTools.jl) to benchmark the speed and memory allocations of our kernels\n",
    "* Profilers to find bottlenecks (e.g. [ProfileCanvas.jl](https://github.com/pfitzseb/ProfileCanvas.jl))\n",
    "* `@code_warntype` to check if our code is type stable\n",
    "* [Cthulhu.jl](https://github.com/JuliaDebug/Cthulhu.jl)\n",
    "* Others: [JET.jl](https://github.com/aviatesk/JET.jl), [Aqua.jl](https://github.com/JuliaTesting/Aqua.jl)"
   ],
   "metadata": {}
  },
  {
   "cell_type": "markdown",
   "source": [
    "# BenchmarkTools.jl"
   ],
   "metadata": {}
  },
  {
   "outputs": [
    {
     "name": "stdout",
     "output_type": "stream",
     "text": [
      "  0.792 ns (0 allocations: 0 bytes)\n"
     ]
    },
    {
     "output_type": "execute_result",
     "data": {
      "text/plain": "1.7921732359737277"
     },
     "metadata": {},
     "execution_count": 1
    }
   ],
   "cell_type": "code",
   "source": [
    "using BenchmarkTools\n",
    "f(x, n) = x^n\n",
    "@btime f(1.2, 3.2)"
   ],
   "metadata": {},
   "execution_count": 1
  },
  {
   "cell_type": "markdown",
   "source": [
    "Be aware if you want to benchmark functions with non-literal arguments, you\n",
    "need to use the dollar symbol:"
   ],
   "metadata": {}
  },
  {
   "outputs": [
    {
     "name": "stdout",
     "output_type": "stream",
     "text": [
      "  11.720 ns (0 allocations: 0 bytes)\n"
     ]
    },
    {
     "output_type": "execute_result",
     "data": {
      "text/plain": "1.7921732359737277"
     },
     "metadata": {},
     "execution_count": 2
    }
   ],
   "cell_type": "code",
   "source": [
    "x, n = 1.2, 3.2\n",
    "@btime f($x, $n)"
   ],
   "metadata": {},
   "execution_count": 2
  },
  {
   "cell_type": "markdown",
   "source": [
    "# Type instabilities\n",
    "A type instability when the compiler can't predict (infer) at compile time the types of a variable"
   ],
   "metadata": {}
  },
  {
   "outputs": [
    {
     "output_type": "execute_result",
     "data": {
      "text/plain": "foo (generic function with 1 method)"
     },
     "metadata": {},
     "execution_count": 3
    }
   ],
   "cell_type": "code",
   "source": [
    "function foo(x)\n",
    "    v = 0.0\n",
    "    for i in eachindex(x)\n",
    "        v += x[i]\n",
    "    end\n",
    "    v\n",
    "end"
   ],
   "metadata": {},
   "execution_count": 3
  },
  {
   "cell_type": "markdown",
   "source": [
    "If we benchmark the previous function with some funky argument, we will observe a non-expected behaviour"
   ],
   "metadata": {}
  },
  {
   "outputs": [
    {
     "name": "stdout",
     "output_type": "stream",
     "text": [
      "  56.657 ns (6 allocations: 224 bytes)\n"
     ]
    },
    {
     "output_type": "execute_result",
     "data": {
      "text/plain": "248.72999572753906"
     },
     "metadata": {},
     "execution_count": 4
    }
   ],
   "cell_type": "code",
   "source": [
    "x = (1, 0.5, 34, 213.23f0)\n",
    "@btime foo($x)"
   ],
   "metadata": {},
   "execution_count": 4
  },
  {
   "cell_type": "markdown",
   "source": [
    "The best way to detect if and where we have type instabilities is with the `@code_warntype` macro"
   ],
   "metadata": {}
  },
  {
   "outputs": [
    {
     "name": "stdout",
     "output_type": "stream",
     "text": [
      "MethodInstance for Main.var\"##1174\".foo(::Tuple{Int64, Float64, Int64, Float32})\n",
      "  from foo(x) @ Main.var\"##1174\" ~/Desktop/Seminars/JuliaMainz23/basic_perftools.ipynb:1\n",
      "Arguments\n",
      "  #self#::Core.Const(Main.var\"##1174\".foo)\n",
      "  x::Tuple{Int64, Float64, Int64, Float32}\n",
      "Locals\n",
      "  @_3::UNION{NOTHING, TUPLE{INT64, INT64}}\n",
      "  v::Float64\n",
      "  i::Int64\n",
      "Body::Float64\n",
      "1 ─       (v = 0.0)\n",
      "│   %2  = Main.var\"##1174\".eachindex(x)::Core.Const(Base.OneTo(4))\n",
      "│         (@_3 = Base.iterate(%2))\n",
      "│   %4  = (@_3::Core.Const((1, 1)) === nothing)::Core.Const(false)\n",
      "│   %5  = Base.not_int(%4)::Core.Const(true)\n",
      "└──       goto #4 if not %5\n",
      "2 ┄ %7  = @_3::Tuple{Int64, Int64}\n",
      "│         (i = Core.getfield(%7, 1))\n",
      "│   %9  = Core.getfield(%7, 2)::Int64\n",
      "│   %10 = v::Float64\n",
      "│   %11 = Base.getindex(x, i)::UNION{FLOAT32, FLOAT64, INT64}\n",
      "│         (v = %10 + %11)\n",
      "│         (@_3 = Base.iterate(%2, %9))\n",
      "│   %14 = (@_3 === nothing)::Bool\n",
      "│   %15 = Base.not_int(%14)::Bool\n",
      "└──       goto #4 if not %15\n",
      "3 ─       goto #2\n",
      "4 ┄       return v\n",
      "\n"
     ]
    }
   ],
   "cell_type": "code",
   "source": [
    "using InteractiveUtils\n",
    "@code_warntype foo(x)"
   ],
   "metadata": {},
   "execution_count": 5
  },
  {
   "cell_type": "markdown",
   "source": [
    "If the argument is a homogeneous data container"
   ],
   "metadata": {}
  },
  {
   "outputs": [
    {
     "output_type": "execute_result",
     "data": {
      "text/plain": "(1.0, 0.5, 34.0, 213.23)"
     },
     "metadata": {},
     "execution_count": 6
    }
   ],
   "cell_type": "code",
   "source": [
    "x = (1.0, 0.5, 34.0, 213.23)"
   ],
   "metadata": {},
   "execution_count": 6
  },
  {
   "cell_type": "markdown",
   "source": [
    "@code_warntype foo(x)"
   ],
   "metadata": {}
  },
  {
   "cell_type": "markdown",
   "source": [
    "---\n",
    "\n",
    "*This notebook was generated using [Literate.jl](https://github.com/fredrikekre/Literate.jl).*"
   ],
   "metadata": {}
  }
 ],
 "nbformat_minor": 3,
 "metadata": {
  "language_info": {
   "file_extension": ".jl",
   "mimetype": "application/julia",
   "name": "julia",
   "version": "1.10.0-rc1"
  },
  "kernelspec": {
   "name": "julia-1.10",
   "display_name": "Julia 1.10.0-rc1",
   "language": "julia"
  }
 },
 "nbformat": 4
}
