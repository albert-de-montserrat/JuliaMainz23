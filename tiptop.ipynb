{
 "cells": [
  {
   "cell_type": "markdown",
   "source": [
    "# Outline\n",
    "1. Writing Julia code: type system and multiple-dispatch\n",
    "2. Why is my code so slow?\n",
    "     1. Type stabilities\n",
    "     2. Heap vs Stack\n",
    "     3. Arrays and tuples\n",
    "3. Metaprogramming (i.e. code gen): macros and generated functions\n",
    "4. Boosting performance"
   ],
   "metadata": {}
  },
  {
   "cell_type": "markdown",
   "source": [
    "# Writing Julia code\n",
    "Julia selling point in a nutshell is\n",
    "> **easy** high-level language with the performance of a low-level language\n",
    "\n",
    "or\n",
    "> reads like Python runs like C\n",
    "\n",
    "... but is that so?"
   ],
   "metadata": {}
  },
  {
   "outputs": [],
   "cell_type": "code",
   "source": [
    "n = 256\n",
    "A, B, C = rand(n,n), rand(n,n), rand(n,n)\n",
    "f(A, B, C) = sum(A[2:end-1, 2:end-1] .* B[2:end-1, 2:end-1] .+ C[2:end-1, 2:end-1]);"
   ],
   "metadata": {},
   "execution_count": 1
  },
  {
   "cell_type": "markdown",
   "source": [
    "which reads as MATLAB. Let's benchmark it"
   ],
   "metadata": {}
  },
  {
   "outputs": [
    {
     "name": "stdout",
     "output_type": "stream",
     "text": [
      "  136.334 μs (8 allocations: 1.97 MiB)\n"
     ]
    }
   ],
   "cell_type": "code",
   "source": [
    "using BenchmarkTools\n",
    "@btime f($A, $B, $C);"
   ],
   "metadata": {},
   "execution_count": 2
  },
  {
   "cell_type": "markdown",
   "source": [
    "not very impressive. Let's try to make it faster in a Julia way with a one-liner"
   ],
   "metadata": {}
  },
  {
   "outputs": [
    {
     "name": "stdout",
     "output_type": "stream",
     "text": [
      "  74.666 μs (0 allocations: 0 bytes)\n"
     ]
    }
   ],
   "cell_type": "code",
   "source": [
    "f1(A, B, C) = sum(A[i, j] * B[i, j] + C[i, j] for i in 2:size(A,1)-1, j in 2:size(A,2)-1)\n",
    "@btime f1($A, $B, $C);"
   ],
   "metadata": {},
   "execution_count": 3
  },
  {
   "cell_type": "markdown",
   "source": [
    "not bad, we cut off 50% of the time. Unlike Python and MATLAB, loops in Julia are **fast** (and lead to more readible code),\n",
    "so we can further speed up things if we are willing to type a bit more"
   ],
   "metadata": {}
  },
  {
   "outputs": [
    {
     "name": "stdout",
     "output_type": "stream",
     "text": [
      "  55.167 μs (0 allocations: 0 bytes)\n"
     ]
    }
   ],
   "cell_type": "code",
   "source": [
    "function f2(A, B, C)\n",
    "    v = 0.0\n",
    "    nx, ny = size(A)\n",
    "    for j in 2:ny-1, i in 2:nx-1\n",
    "        v += A[i, j] * B[i, j] + C[i, j]\n",
    "    end\n",
    "    return v\n",
    "end\n",
    "@btime f2($A, $B, $C);"
   ],
   "metadata": {},
   "execution_count": 4
  },
  {
   "cell_type": "markdown",
   "source": [
    "that's already a x2.5 speedup. If we are willing to accept some black magic\n",
    "we can use `LoopVectorization.jl` to effortlessly vectorize the loop"
   ],
   "metadata": {}
  },
  {
   "outputs": [
    {
     "name": "stdout",
     "output_type": "stream",
     "text": [
      "  23.667 μs (0 allocations: 0 bytes)\n"
     ]
    }
   ],
   "cell_type": "code",
   "source": [
    "using LoopVectorization\n",
    "function f3(A, B, C)\n",
    "    v = 0.0\n",
    "    nx, ny = size(A)\n",
    "    @turbo for j in 2:ny-1, i in 2:nx-1\n",
    "        v += A[i, j] * B[i, j] + C[i, j]\n",
    "    end\n",
    "    return v\n",
    "end\n",
    "@btime f3($A, $B, $C);"
   ],
   "metadata": {},
   "execution_count": 5
  },
  {
   "cell_type": "markdown",
   "source": [
    "for a nice x6 speedup."
   ],
   "metadata": {}
  },
  {
   "cell_type": "markdown",
   "source": [
    "---\n",
    "\n",
    "*This notebook was generated using [Literate.jl](https://github.com/fredrikekre/Literate.jl).*"
   ],
   "metadata": {}
  }
 ],
 "nbformat_minor": 3,
 "metadata": {
  "language_info": {
   "file_extension": ".jl",
   "mimetype": "application/julia",
   "name": "julia",
   "version": "1.10.0-rc1"
  },
  "kernelspec": {
   "name": "julia-1.10",
   "display_name": "Julia 1.10.0-rc1",
   "language": "julia"
  }
 },
 "nbformat": 4
}
