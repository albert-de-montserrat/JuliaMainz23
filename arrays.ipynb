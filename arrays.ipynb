{
 "cells": [
  {
   "outputs": [],
   "cell_type": "code",
   "source": [
    "using BenchmarkTools"
   ],
   "metadata": {},
   "execution_count": 1
  },
  {
   "cell_type": "markdown",
   "source": [
    "# Row/Column-major\n",
    "Different programming languages use different memory layouts for arrays. For example matrices are stored in\n",
    "row-major format in C/C++, Rust or Python; whereas they are stored in column-major format in Julia, Fortran and MATLAB.\n",
    "Because of how data of these matrices is cached when we perform operations on them, the order in which we access the data\n",
    "is important in terms of performance. In Julia we always want to iterate over the inner most index first, so we acces the arrays\n",
    "memory contiguously, avoided cache misses"
   ],
   "metadata": {}
  },
  {
   "outputs": [
    {
     "name": "stdout",
     "output_type": "stream",
     "text": [
      "  273.542 μs (0 allocations: 0 bytes)\n"
     ]
    }
   ],
   "cell_type": "code",
   "source": [
    "n = 256\n",
    "A, B, C = rand(n,n), rand(n,n), rand(n,n)\n",
    "function row_major!(A, B, C)\n",
    "    for i in axes(A, 1), j in axes(A, 2)\n",
    "        A[i, j] = B[i, j] * C[i, j]\n",
    "    end\n",
    "    return nothing\n",
    "end\n",
    "@btime row_major!($A, $B, $C);"
   ],
   "metadata": {},
   "execution_count": 2
  },
  {
   "outputs": [
    {
     "name": "stdout",
     "output_type": "stream",
     "text": [
      "  14.917 μs (0 allocations: 0 bytes)\n"
     ]
    }
   ],
   "cell_type": "code",
   "source": [
    "function column_major!(A, B, C)\n",
    "    for j in axes(A, 2), i in axes(A, 1)\n",
    "        A[i, j] = B[i, j] * C[i, j]\n",
    "    end\n",
    "    return nothing\n",
    "end\n",
    "@btime column_major!($A, $B, $C);"
   ],
   "metadata": {},
   "execution_count": 3
  },
  {
   "cell_type": "markdown",
   "source": [
    "# Stack vs Heap allocation\n",
    "These are the places in the memory where data is \"stored\". The stack is statically allocated and it is ordered.\n",
    "This order allows the compiler to know exactly where things are, yielding very quick access. Like everything else that is referred as static\n",
    "the size of variables (i.e. type and length) has to be known at compile time. On the other hand, the heap is dynamically allocated, and not necessarily is unordered, resulting in slower acces."
   ],
   "metadata": {}
  },
  {
   "outputs": [
    {
     "name": "stdout",
     "output_type": "stream",
     "text": [
      "  16.826 ns (1 allocation: 80 bytes)\n"
     ]
    },
    {
     "output_type": "execute_result",
     "data": {
      "text/plain": "2-element Vector{Float64}:\n 0.7003898737651468\n 0.8948932298951766"
     },
     "metadata": {},
     "execution_count": 4
    }
   ],
   "cell_type": "code",
   "source": [
    "allocate_heap() = [rand(); rand()]\n",
    "@btime allocate_heap() # data size is a runtime parameter (~malloc)"
   ],
   "metadata": {},
   "execution_count": 4
  },
  {
   "outputs": [
    {
     "name": "stdout",
     "output_type": "stream",
     "text": [
      "  3.750 ns (0 allocations: 0 bytes)\n"
     ]
    },
    {
     "output_type": "execute_result",
     "data": {
      "text/plain": "(0.21509030800155737, 0.16256922934394002)"
     },
     "metadata": {},
     "execution_count": 5
    }
   ],
   "cell_type": "code",
   "source": [
    "allocate_stack() = (rand(), rand()) # a tuple of two floats, everything is known at compile time\n",
    "@btime allocate_stack()"
   ],
   "metadata": {},
   "execution_count": 5
  },
  {
   "cell_type": "markdown",
   "source": [
    "A very good performance-wise trick if we want to create non-allocating array-like objects is to use StaticArrays.jl"
   ],
   "metadata": {}
  },
  {
   "outputs": [
    {
     "name": "stdout",
     "output_type": "stream",
     "text": [
      "  3.750 ns (0 allocations: 0 bytes)\n"
     ]
    },
    {
     "output_type": "execute_result",
     "data": {
      "text/plain": "2-element SVector{2, Float64} with indices SOneTo(2):\n 0.25411569348707086\n 0.6947727066315803"
     },
     "metadata": {},
     "execution_count": 6
    }
   ],
   "cell_type": "code",
   "source": [
    "using StaticArrays\n",
    "allocate_SA() = @SVector [rand(); rand()] # a tuple of two floats, everything is known at compile time\n",
    "@btime allocate_SA()"
   ],
   "metadata": {},
   "execution_count": 6
  },
  {
   "cell_type": "markdown",
   "source": [
    "# In-place vs out-of-place\n",
    "It is common that you need to store the results of matrix operations in a new array. Creating the new destination array will obviously allocate, if you need to this operation just once, an out-of-place kernel will do just fine"
   ],
   "metadata": {}
  },
  {
   "outputs": [
    {
     "name": "stdout",
     "output_type": "stream",
     "text": [
      "  277.042 μs (2 allocations: 512.05 KiB)\n"
     ]
    },
    {
     "output_type": "execute_result",
     "data": {
      "text/plain": "256×256 Matrix{Float64}:\n 0.0  0.0  0.0  0.0  0.0  0.0  0.0  0.0  …  0.0  0.0  0.0  0.0  0.0  0.0  0.0\n 0.0  0.0  0.0  0.0  0.0  0.0  0.0  0.0     0.0  0.0  0.0  0.0  0.0  0.0  0.0\n 0.0  0.0  0.0  0.0  0.0  0.0  0.0  0.0     0.0  0.0  0.0  0.0  0.0  0.0  0.0\n 0.0  0.0  0.0  0.0  0.0  0.0  0.0  0.0     0.0  0.0  0.0  0.0  0.0  0.0  0.0\n 0.0  0.0  0.0  0.0  0.0  0.0  0.0  0.0     0.0  0.0  0.0  0.0  0.0  0.0  0.0\n 0.0  0.0  0.0  0.0  0.0  0.0  0.0  0.0  …  0.0  0.0  0.0  0.0  0.0  0.0  0.0\n 0.0  0.0  0.0  0.0  0.0  0.0  0.0  0.0     0.0  0.0  0.0  0.0  0.0  0.0  0.0\n 0.0  0.0  0.0  0.0  0.0  0.0  0.0  0.0     0.0  0.0  0.0  0.0  0.0  0.0  0.0\n 0.0  0.0  0.0  0.0  0.0  0.0  0.0  0.0     0.0  0.0  0.0  0.0  0.0  0.0  0.0\n 0.0  0.0  0.0  0.0  0.0  0.0  0.0  0.0     0.0  0.0  0.0  0.0  0.0  0.0  0.0\n ⋮                        ⋮              ⋱       ⋮                        ⋮\n 0.0  0.0  0.0  0.0  0.0  0.0  0.0  0.0     0.0  0.0  0.0  0.0  0.0  0.0  0.0\n 0.0  0.0  0.0  0.0  0.0  0.0  0.0  0.0     0.0  0.0  0.0  0.0  0.0  0.0  0.0\n 0.0  0.0  0.0  0.0  0.0  0.0  0.0  0.0     0.0  0.0  0.0  0.0  0.0  0.0  0.0\n 0.0  0.0  0.0  0.0  0.0  0.0  0.0  0.0  …  0.0  0.0  0.0  0.0  0.0  0.0  0.0\n 0.0  0.0  0.0  0.0  0.0  0.0  0.0  0.0     0.0  0.0  0.0  0.0  0.0  0.0  0.0\n 0.0  0.0  0.0  0.0  0.0  0.0  0.0  0.0     0.0  0.0  0.0  0.0  0.0  0.0  0.0\n 0.0  0.0  0.0  0.0  0.0  0.0  0.0  0.0     0.0  0.0  0.0  0.0  0.0  0.0  0.0\n 0.0  0.0  0.0  0.0  0.0  0.0  0.0  0.0     0.0  0.0  0.0  0.0  0.0  0.0  0.0\n 0.0  0.0  0.0  0.0  0.0  0.0  0.0  0.0  …  0.0  0.0  0.0  0.0  0.0  0.0  0.0"
     },
     "metadata": {},
     "execution_count": 7
    }
   ],
   "cell_type": "code",
   "source": [
    "function outofplace(A, B)\n",
    "    C = similar(A)\n",
    "    for i in axes(A, 1), j in axes(A, 2)\n",
    "        C[i, j] = B[i, j] * C[i, j]\n",
    "    end\n",
    "    return C\n",
    "end\n",
    "@btime outofplace($A, $B)"
   ],
   "metadata": {},
   "execution_count": 7
  },
  {
   "cell_type": "markdown",
   "source": [
    "however, it is frequent you need to run the kernel several times, in which case you want to avoid allocating the destination array every time. In this case, you can use an in-place kernel, by pre-allocating the destinating array and just mutating it:"
   ],
   "metadata": {}
  },
  {
   "outputs": [
    {
     "name": "stdout",
     "output_type": "stream",
     "text": [
      "  271.292 μs (0 allocations: 0 bytes)\n"
     ]
    }
   ],
   "cell_type": "code",
   "source": [
    "function inplace!(C, A, B)\n",
    "    for i in axes(A, 1), j in axes(A, 2)\n",
    "        C[i, j] = B[i, j] * C[i, j]\n",
    "    end\n",
    "    return nothing\n",
    "end\n",
    "@btime inplace!($C, $A, $B)"
   ],
   "metadata": {},
   "execution_count": 8
  },
  {
   "cell_type": "markdown",
   "source": [
    "note that in the latter case we do no return anything, as Julia passes arguments by reference to the functions.\n",
    "Also note the `!` at the end for the in-place function, this is a convention in Julia to denote that the function mutates its arguments (where the mutating arguments are the first ones)."
   ],
   "metadata": {}
  },
  {
   "cell_type": "markdown",
   "source": [
    "# Array-like programming\n",
    "# # Broadcasting\n",
    "As in MATLAB, Julia allows to perform element-wise operations on arrays, this is called broadcasting. A dot before the target function indicates broadcasting"
   ],
   "metadata": {}
  },
  {
   "outputs": [
    {
     "name": "stdout",
     "output_type": "stream",
     "text": [
      "  18.208 μs (2 allocations: 512.05 KiB)\n"
     ]
    },
    {
     "output_type": "execute_result",
     "data": {
      "text/plain": "256×256 Matrix{Float64}:\n 0.824202   0.358415  0.645767  1.28931   …  0.461446   1.58616    0.405873\n 0.920641   0.148476  0.752086  1.08211      0.118403   1.33501    0.360263\n 0.732076   1.64669   0.160779  0.058471     0.156486   0.874853   0.435235\n 1.32835    0.918316  1.08398   0.814477     0.0145656  0.135307   1.26058\n 1.08737    1.5891    0.530296  0.711687     1.50869    0.309079   0.147277\n 0.433988   1.48323   1.49631   0.251044  …  1.89275    0.44957    1.31297\n 0.971615   0.134301  1.46595   0.707529     1.01741    0.266697   0.935881\n 1.24616    0.039183  0.730881  0.70954      1.39967    0.615599   1.15738\n 0.0351134  0.435394  1.5727    0.511341     1.518      0.351143   1.28002\n 1.60337    0.826503  1.73301   0.622881     0.378717   0.962837   1.33647\n ⋮                                        ⋱                        ⋮\n 0.791443   0.356337  1.16466   1.46068      0.269654   0.0825802  0.470005\n 1.79178    0.123877  0.242314  1.20828      1.22534    0.754204   0.526573\n 0.375748   0.677148  1.10106   1.31843      1.28402    0.199343   0.582701\n 0.663332   0.939526  0.61812   0.372129  …  0.535508   0.802872   0.528434\n 1.18786    1.65002   0.401882  0.421859     0.373317   1.17848    0.512694\n 0.596184   1.19928   0.421163  0.679274     1.07188    1.84777    0.474832\n 1.06647    0.897248  1.08647   0.769614     0.395619   0.120558   0.283747\n 1.17776    0.417952  0.152711  1.20046      0.537815   1.48134    0.932131\n 0.374434   1.03225   1.18138   0.810129  …  1.2389     0.282361   0.495024"
     },
     "metadata": {},
     "execution_count": 9
    }
   ],
   "cell_type": "code",
   "source": [
    "broadcast1(A, B, C) = A .+ B .+ C\n",
    "@btime broadcast1($A, $B, $C)"
   ],
   "metadata": {},
   "execution_count": 9
  },
  {
   "cell_type": "markdown",
   "source": [
    "alternative you can use the macro `@.` to remove dot redundancy and apply broadcasting to all the operations"
   ],
   "metadata": {}
  },
  {
   "outputs": [
    {
     "name": "stdout",
     "output_type": "stream",
     "text": [
      "  17.708 μs (2 allocations: 512.05 KiB)\n"
     ]
    },
    {
     "output_type": "execute_result",
     "data": {
      "text/plain": "256×256 Matrix{Float64}:\n 0.824202   0.358415  0.645767  1.28931   …  0.461446   1.58616    0.405873\n 0.920641   0.148476  0.752086  1.08211      0.118403   1.33501    0.360263\n 0.732076   1.64669   0.160779  0.058471     0.156486   0.874853   0.435235\n 1.32835    0.918316  1.08398   0.814477     0.0145656  0.135307   1.26058\n 1.08737    1.5891    0.530296  0.711687     1.50869    0.309079   0.147277\n 0.433988   1.48323   1.49631   0.251044  …  1.89275    0.44957    1.31297\n 0.971615   0.134301  1.46595   0.707529     1.01741    0.266697   0.935881\n 1.24616    0.039183  0.730881  0.70954      1.39967    0.615599   1.15738\n 0.0351134  0.435394  1.5727    0.511341     1.518      0.351143   1.28002\n 1.60337    0.826503  1.73301   0.622881     0.378717   0.962837   1.33647\n ⋮                                        ⋱                        ⋮\n 0.791443   0.356337  1.16466   1.46068      0.269654   0.0825802  0.470005\n 1.79178    0.123877  0.242314  1.20828      1.22534    0.754204   0.526573\n 0.375748   0.677148  1.10106   1.31843      1.28402    0.199343   0.582701\n 0.663332   0.939526  0.61812   0.372129  …  0.535508   0.802872   0.528434\n 1.18786    1.65002   0.401882  0.421859     0.373317   1.17848    0.512694\n 0.596184   1.19928   0.421163  0.679274     1.07188    1.84777    0.474832\n 1.06647    0.897248  1.08647   0.769614     0.395619   0.120558   0.283747\n 1.17776    0.417952  0.152711  1.20046      0.537815   1.48134    0.932131\n 0.374434   1.03225   1.18138   0.810129  …  1.2389     0.282361   0.495024"
     },
     "metadata": {},
     "execution_count": 10
    }
   ],
   "cell_type": "code",
   "source": [
    "broadcast2(A, B, C) = @. A + B + C\n",
    "@btime broadcast2($A, $B, $C)"
   ],
   "metadata": {},
   "execution_count": 10
  },
  {
   "cell_type": "markdown",
   "source": [
    "See that we are still allocating an output array. We can also do in-place operations with broadcasting by putting a dot before the equal symbol"
   ],
   "metadata": {}
  },
  {
   "outputs": [
    {
     "name": "stdout",
     "output_type": "stream",
     "text": [
      "  14.708 μs (0 allocations: 0 bytes)\n"
     ]
    }
   ],
   "cell_type": "code",
   "source": [
    "function broadcasting3!(C, A, B)\n",
    "    C .= A .+ B\n",
    "    return nothing\n",
    "end\n",
    "@btime broadcasting3!($C, $A, $B);"
   ],
   "metadata": {},
   "execution_count": 11
  },
  {
   "cell_type": "markdown",
   "source": [
    "# # Array slicing\n",
    "We can use MATLAB syntax to slice our arrays"
   ],
   "metadata": {}
  },
  {
   "outputs": [],
   "cell_type": "code",
   "source": [
    "Aslice = A[:, 1];"
   ],
   "metadata": {},
   "execution_count": 12
  },
  {
   "cell_type": "markdown",
   "source": [
    "However, this is creating a new array out of the slice of A (=allocating). If we want to avoid this, we can use the `@view` macro"
   ],
   "metadata": {}
  },
  {
   "outputs": [
    {
     "name": "stdout",
     "output_type": "stream",
     "text": [
      "  384.693 ns (2 allocations: 4.25 KiB)\n"
     ]
    },
    {
     "output_type": "execute_result",
     "data": {
      "text/plain": "256-element view(::Matrix{Float64}, :, 1) with eltype Float64:\n 0.8242022650798724\n 0.9206413781419407\n 0.7320759901571295\n 1.328351341983126\n 1.087365856996541\n 0.43398804045703554\n 0.9716149460383385\n 1.2461597435819431\n 0.03511340817989614\n 1.6033693969986396\n ⋮\n 0.7914430066962354\n 1.7917806452567717\n 0.375748429699585\n 0.6633323121598859\n 1.187855262757119\n 0.5961843673274054\n 1.066474626393864\n 1.1777644952041766\n 0.3744344801829245"
     },
     "metadata": {},
     "execution_count": 13
    }
   ],
   "cell_type": "code",
   "source": [
    "@btime @. $C[:, 1] = $A[:, 1] + $B[:, 1]"
   ],
   "metadata": {},
   "execution_count": 13
  },
  {
   "cell_type": "markdown",
   "source": [
    "But we can avoid allocations using the `@views` macro"
   ],
   "metadata": {}
  },
  {
   "outputs": [
    {
     "name": "stdout",
     "output_type": "stream",
     "text": [
      "  36.421 ns (0 allocations: 0 bytes)\n"
     ]
    },
    {
     "output_type": "execute_result",
     "data": {
      "text/plain": "256-element view(::Matrix{Float64}, :, 1) with eltype Float64:\n 0.8242022650798724\n 0.9206413781419407\n 0.7320759901571295\n 1.328351341983126\n 1.087365856996541\n 0.43398804045703554\n 0.9716149460383385\n 1.2461597435819431\n 0.03511340817989614\n 1.6033693969986396\n ⋮\n 0.7914430066962354\n 1.7917806452567717\n 0.375748429699585\n 0.6633323121598859\n 1.187855262757119\n 0.5961843673274054\n 1.066474626393864\n 1.1777644952041766\n 0.3744344801829245"
     },
     "metadata": {},
     "execution_count": 14
    }
   ],
   "cell_type": "code",
   "source": [
    "@btime @views @. $C[:, 1] = $A[:, 1] + $B[:, 1]"
   ],
   "metadata": {},
   "execution_count": 14
  },
  {
   "cell_type": "markdown",
   "source": [
    "---\n",
    "\n",
    "*This notebook was generated using [Literate.jl](https://github.com/fredrikekre/Literate.jl).*"
   ],
   "metadata": {}
  }
 ],
 "nbformat_minor": 3,
 "metadata": {
  "language_info": {
   "file_extension": ".jl",
   "mimetype": "application/julia",
   "name": "julia",
   "version": "1.9.3"
  },
  "kernelspec": {
   "name": "julia-1.9",
   "display_name": "Julia 1.9.3",
   "language": "julia"
  }
 },
 "nbformat": 4
}
